{
  "nbformat": 4,
  "nbformat_minor": 0,
  "metadata": {
    "colab": {
      "provenance": [],
      "authorship_tag": "ABX9TyP4L3WIk86cO92njAs8lvnu",
      "include_colab_link": true
    },
    "kernelspec": {
      "name": "python3",
      "display_name": "Python 3"
    },
    "language_info": {
      "name": "python"
    }
  },
  "cells": [
    {
      "cell_type": "markdown",
      "metadata": {
        "id": "view-in-github",
        "colab_type": "text"
      },
      "source": [
        "<a href=\"https://colab.research.google.com/github/MarianaVillegas8a/Trabajo-1-An-lisis-de-Algoritmos/blob/main/analisis_de_algoritmo.ipynb\" target=\"_parent\"><img src=\"https://colab.research.google.com/assets/colab-badge.svg\" alt=\"Open In Colab\"/></a>"
      ]
    },
    {
      "cell_type": "markdown",
      "source": [
        "c++, swig, python"
      ],
      "metadata": {
        "id": "4Rq0xZqLhmy4"
      }
    },
    {
      "cell_type": "code",
      "source": [
        "!apt-get install swig\n"
      ],
      "metadata": {
        "colab": {
          "base_uri": "https://localhost:8080/"
        },
        "id": "RdVn8NrvgDNu",
        "outputId": "2ccdc45e-c512-4817-e761-fa3478f9eff2"
      },
      "execution_count": null,
      "outputs": [
        {
          "output_type": "stream",
          "name": "stdout",
          "text": [
            "Reading package lists... Done\n",
            "Building dependency tree... Done\n",
            "Reading state information... Done\n",
            "swig is already the newest version (4.0.2-1ubuntu1).\n",
            "0 upgraded, 0 newly installed, 0 to remove and 46 not upgraded.\n"
          ]
        }
      ]
    },
    {
      "cell_type": "code",
      "source": [
        "%%file dna.h\n",
        "\n",
        "#include <string>\n",
        "#include <vector>\n",
        "#include <map>\n",
        "\n",
        "class HMM {\n",
        "public:\n",
        "    std::vector<std::string> states;\n",
        "    std::map<std::string, std::map<std::string, double>> emissions;\n",
        "    std::map<std::string, std::map<std::string, double>> transitions;\n",
        "    std::map<std::string, double> start_prob;\n",
        "\n",
        "    HMM();\n",
        "    std::string recognize(const std::string& sequence);\n",
        "    double evaluate(const std::string& sequence);\n",
        "};\n"
      ],
      "metadata": {
        "colab": {
          "base_uri": "https://localhost:8080/"
        },
        "id": "KvgDnA9agFLG",
        "outputId": "dc55ec72-16e8-4c0e-d040-e8a2e19b11d3"
      },
      "execution_count": null,
      "outputs": [
        {
          "output_type": "stream",
          "name": "stdout",
          "text": [
            "Writing dna.h\n"
          ]
        }
      ]
    },
    {
      "cell_type": "code",
      "source": [
        "%%file dna.cxx\n",
        "\n",
        "#include \"dna.h\"\n",
        "#include <cmath>\n",
        "\n",
        "HMM::HMM() {\n",
        "    states = {\"H\", \"L\"};\n",
        "    start_prob[\"H\"] = 0.5;\n",
        "    start_prob[\"L\"] = 0.5;\n",
        "\n",
        "    transitions[\"H\"][\"H\"] = 0.5;\n",
        "    transitions[\"H\"][\"L\"] = 0.5;\n",
        "    transitions[\"L\"][\"H\"] = 0.4;\n",
        "    transitions[\"L\"][\"L\"] = 0.6;\n",
        "\n",
        "    emissions[\"H\"][\"A\"] = 0.2;\n",
        "    emissions[\"H\"][\"C\"] = 0.3;\n",
        "    emissions[\"H\"][\"G\"] = 0.3;\n",
        "    emissions[\"H\"][\"T\"] = 0.2;\n",
        "\n",
        "    emissions[\"L\"][\"A\"] = 0.3;\n",
        "    emissions[\"L\"][\"C\"] = 0.2;\n",
        "    emissions[\"L\"][\"G\"] = 0.2;\n",
        "    emissions[\"L\"][\"T\"] = 0.3;\n",
        "}\n",
        "\n",
        "std::string HMM::recognize(const std::string& sequence) {\n",
        "    std::string result;\n",
        "    std::string current_state = \"H\";\n",
        "    for (char nucleotide : sequence) {\n",
        "        std::string nuc(1, nucleotide);\n",
        "        double prob_H = emissions[\"H\"][nuc] * transitions[current_state][\"H\"];\n",
        "        double prob_L = emissions[\"L\"][nuc] * transitions[current_state][\"L\"];\n",
        "        current_state = (prob_H > prob_L) ? \"H\" : \"L\";\n",
        "        result += current_state;\n",
        "    }\n",
        "    return result;\n",
        "}\n",
        "\n",
        "double HMM::evaluate(const std::string& sequence) {\n",
        "    std::map<std::string, double> probs;\n",
        "    for (const auto& state : states) {\n",
        "        probs[state] = start_prob[state] * emissions[state][std::string(1, sequence[0])];\n",
        "    }\n",
        "\n",
        "    for (size_t i = 1; i < sequence.size(); ++i) {\n",
        "        std::map<std::string, double> new_probs;\n",
        "        std::string nuc(1, sequence[i]);\n",
        "        for (const auto& curr : states) {\n",
        "            double sum = 0.0;\n",
        "            for (const auto& prev : states) {\n",
        "                sum += probs[prev] * transitions[prev][curr];\n",
        "            }\n",
        "            new_probs[curr] = sum * emissions[curr][nuc];\n",
        "        }\n",
        "        probs = new_probs;\n",
        "    }\n",
        "\n",
        "    double total = 0.0;\n",
        "    for (const auto& state : states) {\n",
        "        total += probs[state];\n",
        "    }\n",
        "    return total;\n",
        "}\n"
      ],
      "metadata": {
        "colab": {
          "base_uri": "https://localhost:8080/"
        },
        "id": "r2GHT5BPgJKW",
        "outputId": "372651f8-3e9e-43f4-e6c1-ed3e2ef4f663"
      },
      "execution_count": null,
      "outputs": [
        {
          "output_type": "stream",
          "name": "stdout",
          "text": [
            "Overwriting dna.cxx\n"
          ]
        }
      ]
    },
    {
      "cell_type": "code",
      "source": [
        "%%file dna.i\n",
        "\n",
        "%module dna\n",
        "\n",
        "%{\n",
        "#include \"dna.h\"\n",
        "%}\n",
        "\n",
        "%include \"dna.h\"\n"
      ],
      "metadata": {
        "colab": {
          "base_uri": "https://localhost:8080/"
        },
        "id": "31U9bWKPgMuk",
        "outputId": "67c0fdb2-29f7-43f4-d286-b5ee00da1463"
      },
      "execution_count": null,
      "outputs": [
        {
          "output_type": "stream",
          "name": "stdout",
          "text": [
            "Writing dna.i\n"
          ]
        }
      ]
    },
    {
      "cell_type": "code",
      "source": [
        "!swig -c++ -python dna.i\n",
        "!g++ -O2 -fPIC -c dna.cxx\n",
        "!g++ -O2 -fPIC -c dna_wrap.cxx -I/usr/include/python3.10\n",
        "!g++ -shared dna.o dna_wrap.o -o _dna.so\n"
      ],
      "metadata": {
        "id": "KzFDmvkAgPB9"
      },
      "execution_count": null,
      "outputs": []
    },
    {
      "cell_type": "code",
      "source": [
        "import dna\n",
        "\n",
        "model = dna.HMM()\n",
        "\n",
        "sequence = \"ATCGGATCGCG\"\n",
        "print(\"Sequence:\", sequence)\n",
        "\n",
        "# Reconocimiento\n",
        "recognized = model.recognize(sequence)\n",
        "print(\"Recognition:\", recognized)\n",
        "\n",
        "# Evaluación\n",
        "probability = model.evaluate(sequence)\n",
        "print(\"Evaluation:\", probability)\n"
      ],
      "metadata": {
        "colab": {
          "base_uri": "https://localhost:8080/",
          "height": 349
        },
        "id": "GfRQzy_QgR3i",
        "outputId": "5ac04083-666c-444e-bc3d-3ebbf125e84c"
      },
      "execution_count": null,
      "outputs": [
        {
          "output_type": "stream",
          "name": "stdout",
          "text": [
            "Sequence: ATCGGATCGCG\n"
          ]
        },
        {
          "output_type": "error",
          "ename": "TypeError",
          "evalue": "in method 'HMM_recognize', argument 2 of type 'std::string const &'",
          "traceback": [
            "\u001b[0;31m---------------------------------------------------------------------------\u001b[0m",
            "\u001b[0;31mTypeError\u001b[0m                                 Traceback (most recent call last)",
            "\u001b[0;32m/tmp/ipython-input-1009636659.py\u001b[0m in \u001b[0;36m<cell line: 0>\u001b[0;34m()\u001b[0m\n\u001b[1;32m      7\u001b[0m \u001b[0;34m\u001b[0m\u001b[0m\n\u001b[1;32m      8\u001b[0m \u001b[0;31m# Reconocimiento\u001b[0m\u001b[0;34m\u001b[0m\u001b[0;34m\u001b[0m\u001b[0m\n\u001b[0;32m----> 9\u001b[0;31m \u001b[0mrecognized\u001b[0m \u001b[0;34m=\u001b[0m \u001b[0mmodel\u001b[0m\u001b[0;34m.\u001b[0m\u001b[0mrecognize\u001b[0m\u001b[0;34m(\u001b[0m\u001b[0msequence\u001b[0m\u001b[0;34m)\u001b[0m\u001b[0;34m\u001b[0m\u001b[0;34m\u001b[0m\u001b[0m\n\u001b[0m\u001b[1;32m     10\u001b[0m \u001b[0mprint\u001b[0m\u001b[0;34m(\u001b[0m\u001b[0;34m\"Recognition:\"\u001b[0m\u001b[0;34m,\u001b[0m \u001b[0mrecognized\u001b[0m\u001b[0;34m)\u001b[0m\u001b[0;34m\u001b[0m\u001b[0;34m\u001b[0m\u001b[0m\n\u001b[1;32m     11\u001b[0m \u001b[0;34m\u001b[0m\u001b[0m\n",
            "\u001b[0;32m/content/dna.py\u001b[0m in \u001b[0;36mrecognize\u001b[0;34m(self, sequence)\u001b[0m\n\u001b[1;32m     74\u001b[0m \u001b[0;34m\u001b[0m\u001b[0m\n\u001b[1;32m     75\u001b[0m     \u001b[0;32mdef\u001b[0m \u001b[0mrecognize\u001b[0m\u001b[0;34m(\u001b[0m\u001b[0mself\u001b[0m\u001b[0;34m,\u001b[0m \u001b[0msequence\u001b[0m\u001b[0;34m)\u001b[0m\u001b[0;34m:\u001b[0m\u001b[0;34m\u001b[0m\u001b[0;34m\u001b[0m\u001b[0m\n\u001b[0;32m---> 76\u001b[0;31m         \u001b[0;32mreturn\u001b[0m \u001b[0m_dna\u001b[0m\u001b[0;34m.\u001b[0m\u001b[0mHMM_recognize\u001b[0m\u001b[0;34m(\u001b[0m\u001b[0mself\u001b[0m\u001b[0;34m,\u001b[0m \u001b[0msequence\u001b[0m\u001b[0;34m)\u001b[0m\u001b[0;34m\u001b[0m\u001b[0;34m\u001b[0m\u001b[0m\n\u001b[0m\u001b[1;32m     77\u001b[0m \u001b[0;34m\u001b[0m\u001b[0m\n\u001b[1;32m     78\u001b[0m     \u001b[0;32mdef\u001b[0m \u001b[0mevaluate\u001b[0m\u001b[0;34m(\u001b[0m\u001b[0mself\u001b[0m\u001b[0;34m,\u001b[0m \u001b[0msequence\u001b[0m\u001b[0;34m)\u001b[0m\u001b[0;34m:\u001b[0m\u001b[0;34m\u001b[0m\u001b[0;34m\u001b[0m\u001b[0m\n",
            "\u001b[0;31mTypeError\u001b[0m: in method 'HMM_recognize', argument 2 of type 'std::string const &'"
          ]
        }
      ]
    },
    {
      "cell_type": "markdown",
      "source": [
        "Python"
      ],
      "metadata": {
        "id": "ivsRyP-7hkaT"
      }
    },
    {
      "cell_type": "code",
      "source": [
        "\n",
        "import math\n",
        "from typing import List\n",
        "\n",
        "class HMMModelPy:\n",
        "    def __init__(self):\n",
        "\n",
        "        self.trans = [[0.99, 0.01],[0.01,0.99]]\n",
        "        self.emit = [[0.30,0.20,0.20,0.30],[0.20,0.30,0.30,0.20]]\n",
        "        self.pi = [0.5, 0.5]\n",
        "\n",
        "def base_idx_py(c):\n",
        "    c = c.upper()\n",
        "    if c == 'A': return 0\n",
        "    if c == 'C': return 1\n",
        "    if c == 'G': return 2\n",
        "    if c == 'T': return 3\n",
        "    return -1\n",
        "\n",
        "def forward_prob_py(seq: str, m: HMMModelPy):\n",
        "    n = len(seq)\n",
        "    if n==0: return 0.0\n",
        "    prev = [0.0,0.0]\n",
        "    # init\n",
        "    idx = base_idx_py(seq[0])\n",
        "    if idx < 0: raise ValueError(\"Invalid base\")\n",
        "    for s in range(2):\n",
        "        prev[s] = m.pi[s] * m.emit[s][idx]\n",
        "    for i in range(1,n):\n",
        "        idx = base_idx_py(seq[i])\n",
        "        curr = [0.0,0.0]\n",
        "        for s in range(2):\n",
        "            for sp in range(2):\n",
        "                curr[s] += prev[sp] * m.trans[sp][s]\n",
        "            curr[s] *= m.emit[s][idx]\n",
        "        prev = curr\n",
        "    return prev[0] + prev[1]\n",
        "\n",
        "def viterbi_py(seq: str, m: HMMModelPy):\n",
        "    n = len(seq)\n",
        "    if n==0: return []\n",
        "    dp = [[-1e300]*2 for _ in range(n)]\n",
        "    back = [[0]*2 for _ in range(n)]\n",
        "    idx = base_idx_py(seq[0])\n",
        "    for s in range(2):\n",
        "        dp[0][s] = math.log(m.pi[s]) + math.log(m.emit[s][idx])\n",
        "        back[0][s] = -1\n",
        "    for i in range(1,n):\n",
        "        idx = base_idx_py(seq[i])\n",
        "        for s in range(2):\n",
        "            best = -1e300\n",
        "            best_state = 0\n",
        "            for sp in range(2):\n",
        "                score = dp[i-1][sp] + math.log(m.trans[sp][s]) + math.log(m.emit[s][idx])\n",
        "                if score > best:\n",
        "                    best = score\n",
        "                    best_state = sp\n",
        "            dp[i][s] = best\n",
        "            back[i][s] = best_state\n",
        "\n",
        "    if dp[n-1][1] > dp[n-1][0]:\n",
        "        cur = 1\n",
        "    else:\n",
        "        cur = 0\n",
        "    path = [0]*n\n",
        "    for i in range(n-1, -1, -1):\n",
        "        path[i] = cur\n",
        "        cur = back[i][cur]\n",
        "        if i==0: break\n",
        "    return path\n"
      ],
      "metadata": {
        "id": "RY3dnq-Hg5sJ"
      },
      "execution_count": null,
      "outputs": []
    },
    {
      "cell_type": "markdown",
      "source": [
        "Tiempo"
      ],
      "metadata": {
        "id": "ab3hSWoUh2dY"
      }
    },
    {
      "cell_type": "code",
      "source": [
        "import random, time\n",
        "random.seed(42)\n",
        "\n",
        "def random_dna(length):\n",
        "    return ''.join(random.choice('ACGT') for _ in range(length))\n",
        "\n",
        "# tamaño de prueba (ajusta según lo que quieras medir)\n",
        "N = 20000  # 20k bases — cómodo para Colab; sube si quieres\n",
        "seq_test = random_dna(N)\n",
        "\n",
        "model_py = HMMModelPy()\n",
        "\n",
        "# medir C++ (SWIG) evaluate\n",
        "t0 = time.perf_counter()\n",
        "prob_cpp = dna_lib.evaluate_sequence(seq_test)\n",
        "t1 = time.perf_counter()\n",
        "dt_cpp_eval = t1 - t0\n",
        "\n",
        "# medir Python evaluate\n",
        "t0 = time.perf_counter()\n",
        "prob_py = forward_prob_py(seq_test, model_py)\n",
        "t1 = time.perf_counter()\n",
        "dt_py_eval = t1 - t0\n",
        "\n",
        "# medir C++ viterbi\n",
        "t0 = time.perf_counter()\n",
        "labels_cpp = dna_lib.viterbi(seq_test)\n",
        "t1 = time.perf_counter()\n",
        "dt_cpp_vit = t1 - t0\n",
        "\n",
        "# medir Python viterbi\n",
        "t0 = time.perf_counter()\n",
        "labels_py = viterbi_py(seq_test, model_py)\n",
        "t1 = time.perf_counter()\n",
        "dt_py_vit = t1 - t0\n",
        "\n",
        "# comparaciones\n",
        "print(f\"Longitud secuencia: {N}\")\n",
        "print(\"=== EVALUATION (Forward) ===\")\n",
        "print(f\"C++/SWIG time: {dt_cpp_eval:.6f} s, prob: {prob_cpp:.6e}\")\n",
        "print(f\"Python time:  {dt_py_eval:.6f} s, prob: {prob_py:.6e}\")\n",
        "print()\n",
        "print(\"=== VITERBI (recognition) ===\")\n",
        "print(f\"C++/SWIG time: {dt_cpp_vit:.6f} s, etiquetas obtenidas: {len(labels_cpp)}\")\n",
        "print(f\"Python time:  {dt_py_vit:.6f} s, etiquetas obtenidas: {len(labels_py)}\")\n",
        "\n",
        "# Verify labels match (they should, up to any numerical tie-breaking)\n",
        "same_labels = (labels_cpp == labels_py)\n",
        "print(\"\\n¿Etiquetas idénticas entre C++ y Python?\", same_labels)\n"
      ],
      "metadata": {
        "colab": {
          "base_uri": "https://localhost:8080/",
          "height": 211
        },
        "id": "CZw51VZah3nv",
        "outputId": "eaf5b22b-65f5-499e-a706-163cd8ec434e"
      },
      "execution_count": null,
      "outputs": [
        {
          "output_type": "error",
          "ename": "NameError",
          "evalue": "name 'hmm_lib' is not defined",
          "traceback": [
            "\u001b[0;31m---------------------------------------------------------------------------\u001b[0m",
            "\u001b[0;31mNameError\u001b[0m                                 Traceback (most recent call last)",
            "\u001b[0;32m/tmp/ipython-input-1858999082.py\u001b[0m in \u001b[0;36m<cell line: 0>\u001b[0;34m()\u001b[0m\n\u001b[1;32m     13\u001b[0m \u001b[0;31m# medir C++ (SWIG) evaluate\u001b[0m\u001b[0;34m\u001b[0m\u001b[0;34m\u001b[0m\u001b[0m\n\u001b[1;32m     14\u001b[0m \u001b[0mt0\u001b[0m \u001b[0;34m=\u001b[0m \u001b[0mtime\u001b[0m\u001b[0;34m.\u001b[0m\u001b[0mperf_counter\u001b[0m\u001b[0;34m(\u001b[0m\u001b[0;34m)\u001b[0m\u001b[0;34m\u001b[0m\u001b[0;34m\u001b[0m\u001b[0m\n\u001b[0;32m---> 15\u001b[0;31m \u001b[0mprob_cpp\u001b[0m \u001b[0;34m=\u001b[0m \u001b[0mhmm_lib\u001b[0m\u001b[0;34m.\u001b[0m\u001b[0mevaluate_sequence\u001b[0m\u001b[0;34m(\u001b[0m\u001b[0mseq_test\u001b[0m\u001b[0;34m)\u001b[0m\u001b[0;34m\u001b[0m\u001b[0;34m\u001b[0m\u001b[0m\n\u001b[0m\u001b[1;32m     16\u001b[0m \u001b[0mt1\u001b[0m \u001b[0;34m=\u001b[0m \u001b[0mtime\u001b[0m\u001b[0;34m.\u001b[0m\u001b[0mperf_counter\u001b[0m\u001b[0;34m(\u001b[0m\u001b[0;34m)\u001b[0m\u001b[0;34m\u001b[0m\u001b[0;34m\u001b[0m\u001b[0m\n\u001b[1;32m     17\u001b[0m \u001b[0mdt_cpp_eval\u001b[0m \u001b[0;34m=\u001b[0m \u001b[0mt1\u001b[0m \u001b[0;34m-\u001b[0m \u001b[0mt0\u001b[0m\u001b[0;34m\u001b[0m\u001b[0;34m\u001b[0m\u001b[0m\n",
            "\u001b[0;31mNameError\u001b[0m: name 'hmm_lib' is not defined"
          ]
        }
      ]
    }
  ]
}
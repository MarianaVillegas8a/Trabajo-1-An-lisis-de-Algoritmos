{
  "nbformat": 4,
  "nbformat_minor": 0,
  "metadata": {
    "colab": {
      "provenance": [],
      "authorship_tag": "ABX9TyNAqqcqn6nf+AMxIKH8S+RA",
      "include_colab_link": true
    },
    "kernelspec": {
      "name": "python3",
      "display_name": "Python 3"
    },
    "language_info": {
      "name": "python"
    }
  },
  "cells": [
    {
      "cell_type": "markdown",
      "metadata": {
        "id": "view-in-github",
        "colab_type": "text"
      },
      "source": [
        "<a href=\"https://colab.research.google.com/github/MarianaVillegas8a/Trabajo-1-An-lisis-de-Algoritmos/blob/main/analisis_de_algoritmo.ipynb\" target=\"_parent\"><img src=\"https://colab.research.google.com/assets/colab-badge.svg\" alt=\"Open In Colab\"/></a>"
      ]
    },
    {
      "cell_type": "markdown",
      "source": [
        "c++, swig, python"
      ],
      "metadata": {
        "id": "4Rq0xZqLhmy4"
      }
    },
    {
      "cell_type": "code",
      "source": [
        "!apt-get install swig\n",
        "!apt-get update -qq\n"
      ],
      "metadata": {
        "colab": {
          "base_uri": "https://localhost:8080/"
        },
        "id": "RdVn8NrvgDNu",
        "outputId": "9c544d8e-0065-48c0-b072-6256b7f87dbb"
      },
      "execution_count": 22,
      "outputs": [
        {
          "output_type": "stream",
          "name": "stdout",
          "text": [
            "Reading package lists... Done\n",
            "Building dependency tree... Done\n",
            "Reading state information... Done\n",
            "swig is already the newest version (4.0.2-1ubuntu1).\n",
            "0 upgraded, 0 newly installed, 0 to remove and 47 not upgraded.\n",
            "W: Skipping acquire of configured file 'main/source/Sources' as repository 'https://r2u.stat.illinois.edu/ubuntu jammy InRelease' does not seem to provide it (sources.list entry misspelt?)\n"
          ]
        }
      ]
    },
    {
      "cell_type": "code",
      "source": [
        "%%file dna.h\n",
        "#include <string>\n",
        "#include <vector>\n",
        "#include <map>\n",
        "\n",
        "class HMM {\n",
        "public:\n",
        "    std::vector<std::string> states;\n",
        "    std::map<std::string, std::map<std::string, double>> emissions;\n",
        "    std::map<std::string, std::map<std::string, double>> transitions;\n",
        "    std::map<std::string, double> start_prob;\n",
        "\n",
        "    HMM();\n",
        "    std::string recognize(const std::string& sequence);\n",
        "    double evaluate(const std::string& sequence);\n",
        "};\n"
      ],
      "metadata": {
        "colab": {
          "base_uri": "https://localhost:8080/"
        },
        "id": "KvgDnA9agFLG",
        "outputId": "a47b0586-1aa8-41e3-cc07-c8d1feed927c"
      },
      "execution_count": 23,
      "outputs": [
        {
          "output_type": "stream",
          "name": "stdout",
          "text": [
            "Overwriting dna.h\n"
          ]
        }
      ]
    },
    {
      "cell_type": "code",
      "source": [
        "%%file dna.cxx\n",
        "#include \"dna.h\"\n",
        "#include <cmath>\n",
        "\n",
        "HMM::HMM() {\n",
        "    states = {\"H\", \"L\"};\n",
        "    start_prob[\"H\"] = 0.5;\n",
        "    start_prob[\"L\"] = 0.5;\n",
        "\n",
        "    transitions[\"H\"][\"H\"] = 0.5;\n",
        "    transitions[\"H\"][\"L\"] = 0.5;\n",
        "    transitions[\"L\"][\"H\"] = 0.4;\n",
        "    transitions[\"L\"][\"L\"] = 0.6;\n",
        "\n",
        "    emissions[\"H\"][\"A\"] = 0.2;\n",
        "    emissions[\"H\"][\"C\"] = 0.3;\n",
        "    emissions[\"H\"][\"G\"] = 0.3;\n",
        "    emissions[\"H\"][\"T\"] = 0.2;\n",
        "\n",
        "    emissions[\"L\"][\"A\"] = 0.3;\n",
        "    emissions[\"L\"][\"C\"] = 0.2;\n",
        "    emissions[\"L\"][\"G\"] = 0.2;\n",
        "    emissions[\"L\"][\"T\"] = 0.3;\n",
        "}\n",
        "\n",
        "std::string HMM::recognize(const std::string& sequence) {\n",
        "    std::string result;\n",
        "    std::string current_state = \"H\";\n",
        "    for (char nucleotide : sequence) {\n",
        "        std::string nuc(1, nucleotide);\n",
        "        double prob_H = emissions[\"H\"][nuc] * transitions[current_state][\"H\"];\n",
        "        double prob_L = emissions[\"L\"][nuc] * transitions[current_state][\"L\"];\n",
        "        current_state = (prob_H > prob_L) ? \"H\" : \"L\";\n",
        "        result += current_state;\n",
        "    }\n",
        "    return result;\n",
        "}\n",
        "\n",
        "double HMM::evaluate(const std::string& sequence) {\n",
        "    std::map<std::string, double> probs;\n",
        "    for (const auto& state : states) {\n",
        "        probs[state] = start_prob[state] * emissions[state][std::string(1, sequence[0])];\n",
        "    }\n",
        "\n",
        "    for (size_t i = 1; i < sequence.size(); ++i) {\n",
        "        std::map<std::string, double> new_probs;\n",
        "        std::string nuc(1, sequence[i]);\n",
        "        for (const auto& curr : states) {\n",
        "            double sum = 0.0;\n",
        "            for (const auto& prev : states) {\n",
        "                sum += probs[prev] * transitions[prev][curr];\n",
        "            }\n",
        "            new_probs[curr] = sum * emissions[curr][nuc];\n",
        "        }\n",
        "        probs = new_probs;\n",
        "    }\n",
        "\n",
        "    double total = 0.0;\n",
        "    for (const auto& state : states) {\n",
        "        total += probs[state];\n",
        "    }\n",
        "    return total;\n",
        "}\n"
      ],
      "metadata": {
        "colab": {
          "base_uri": "https://localhost:8080/"
        },
        "id": "r2GHT5BPgJKW",
        "outputId": "0e6d2871-c8a3-4fd4-b2c2-a6ffb0c3a0ef"
      },
      "execution_count": 18,
      "outputs": [
        {
          "output_type": "stream",
          "name": "stdout",
          "text": [
            "Overwriting dna.cxx\n"
          ]
        }
      ]
    },
    {
      "cell_type": "code",
      "source": [
        "%%file dna.i\n",
        "%module dna\n",
        "\n",
        "%{\n",
        "#include \"dna.h\"\n",
        "%}\n",
        "\n",
        "%include \"std_string.i\"\n",
        "%include \"dna.h\"\n"
      ],
      "metadata": {
        "colab": {
          "base_uri": "https://localhost:8080/"
        },
        "id": "31U9bWKPgMuk",
        "outputId": "86260d25-b74e-47cd-ac41-573a4e7b3f86"
      },
      "execution_count": 19,
      "outputs": [
        {
          "output_type": "stream",
          "name": "stdout",
          "text": [
            "Overwriting dna.i\n"
          ]
        }
      ]
    },
    {
      "cell_type": "code",
      "source": [
        "!swig -c++ -python dna.i\n",
        "!g++ -O2 -fPIC -c dna.cxx\n",
        "!g++ -O2 -fPIC -c dna_wrap.cxx -I/usr/include/python3.10\n",
        "!g++ -shared dna.o dna_wrap.o -o _dna.so\n"
      ],
      "metadata": {
        "id": "KzFDmvkAgPB9"
      },
      "execution_count": 20,
      "outputs": []
    },
    {
      "cell_type": "code",
      "source": [
        "import dna\n",
        "\n",
        "model = dna.HMM()\n",
        "sequence = \"ATCGGATCGCG\"\n",
        "\n",
        "print(\"Sequence:\", sequence)\n",
        "print(\"Recognition:\", model.recognize(sequence))\n",
        "print(\"Evaluation:\", model.evaluate(sequence))"
      ],
      "metadata": {
        "colab": {
          "base_uri": "https://localhost:8080/"
        },
        "id": "GfRQzy_QgR3i",
        "outputId": "36dadfc0-f2c4-4157-c2f6-1773809d6390"
      },
      "execution_count": 21,
      "outputs": [
        {
          "output_type": "stream",
          "name": "stdout",
          "text": [
            "Sequence: ATCGGATCGCG\n",
            "Recognition: LLLLLLLLLLL\n",
            "Evaluation: 2.2050482245264802e-07\n"
          ]
        }
      ]
    },
    {
      "cell_type": "markdown",
      "source": [
        "Python"
      ],
      "metadata": {
        "id": "ivsRyP-7hkaT"
      }
    },
    {
      "cell_type": "code",
      "source": [
        "\n",
        "import math\n",
        "from typing import List\n",
        "\n",
        "class HMMModelPy:\n",
        "    def __init__(self):\n",
        "\n",
        "        self.trans = [[0.99, 0.01],[0.01,0.99]]\n",
        "        self.emit = [[0.30,0.20,0.20,0.30],[0.20,0.30,0.30,0.20]]\n",
        "        self.pi = [0.5, 0.5]\n",
        "\n",
        "def base_idx_py(c):\n",
        "    c = c.upper()\n",
        "    if c == 'A': return 0\n",
        "    if c == 'C': return 1\n",
        "    if c == 'G': return 2\n",
        "    if c == 'T': return 3\n",
        "    return -1\n",
        "\n",
        "def forward_prob_py(seq: str, m: HMMModelPy):\n",
        "    n = len(seq)\n",
        "    if n==0: return 0.0\n",
        "    prev = [0.0,0.0]\n",
        "    # init\n",
        "    idx = base_idx_py(seq[0])\n",
        "    if idx < 0: raise ValueError(\"Invalid base\")\n",
        "    for s in range(2):\n",
        "        prev[s] = m.pi[s] * m.emit[s][idx]\n",
        "    for i in range(1,n):\n",
        "        idx = base_idx_py(seq[i])\n",
        "        curr = [0.0,0.0]\n",
        "        for s in range(2):\n",
        "            for sp in range(2):\n",
        "                curr[s] += prev[sp] * m.trans[sp][s]\n",
        "            curr[s] *= m.emit[s][idx]\n",
        "        prev = curr\n",
        "    return prev[0] + prev[1]\n",
        "\n",
        "def viterbi_py(seq: str, m: HMMModelPy):\n",
        "    n = len(seq)\n",
        "    if n==0: return []\n",
        "    dp = [[-1e300]*2 for _ in range(n)]\n",
        "    back = [[0]*2 for _ in range(n)]\n",
        "    idx = base_idx_py(seq[0])\n",
        "    for s in range(2):\n",
        "        dp[0][s] = math.log(m.pi[s]) + math.log(m.emit[s][idx])\n",
        "        back[0][s] = -1\n",
        "    for i in range(1,n):\n",
        "        idx = base_idx_py(seq[i])\n",
        "        for s in range(2):\n",
        "            best = -1e300\n",
        "            best_state = 0\n",
        "            for sp in range(2):\n",
        "                score = dp[i-1][sp] + math.log(m.trans[sp][s]) + math.log(m.emit[s][idx])\n",
        "                if score > best:\n",
        "                    best = score\n",
        "                    best_state = sp\n",
        "            dp[i][s] = best\n",
        "            back[i][s] = best_state\n",
        "\n",
        "    if dp[n-1][1] > dp[n-1][0]:\n",
        "        cur = 1\n",
        "    else:\n",
        "        cur = 0\n",
        "    path = [0]*n\n",
        "    for i in range(n-1, -1, -1):\n",
        "        path[i] = cur\n",
        "        cur = back[i][cur]\n",
        "        if i==0: break\n",
        "    return path\n"
      ],
      "metadata": {
        "id": "RY3dnq-Hg5sJ"
      },
      "execution_count": 30,
      "outputs": []
    },
    {
      "cell_type": "markdown",
      "source": [
        "Tiempo"
      ],
      "metadata": {
        "id": "ab3hSWoUh2dY"
      }
    },
    {
      "cell_type": "code",
      "source": [
        "import random, time\n",
        "\n",
        "# Generador de secuencias DNA\n",
        "random.seed(42)\n",
        "\n",
        "def random_dna(length):\n",
        "    return ''.join(random.choice('ACGT') for _ in range(length))\n",
        "\n",
        "# tamaño de prueba\n",
        "N = 20000\n",
        "seq_test = random_dna(N)\n",
        "\n",
        "# Modelo Python\n",
        "model_py = HMMModelPy()\n",
        "\n",
        "# Modelo C++ con SWIG\n",
        "model_cpp = dna.HMM()\n",
        "\n",
        "# Evaluación Forward\n",
        "t0 = time.perf_counter()\n",
        "prob_cpp = model_cpp.evaluate(seq_test)\n",
        "t1 = time.perf_counter()\n",
        "dt_cpp_eval = t1 - t0\n",
        "\n",
        "t0 = time.perf_counter()\n",
        "prob_py = forward_prob_py(seq_test, model_py)\n",
        "t1 = time.perf_counter()\n",
        "dt_py_eval = t1 - t0\n",
        "\n",
        "# Viterbi Recognition\n",
        "t0 = time.perf_counter()\n",
        "labels_cpp = model_cpp.recognize(seq_test)\n",
        "t1 = time.perf_counter()\n",
        "dt_cpp_vit = t1 - t0\n",
        "\n",
        "t0 = time.perf_counter()\n",
        "labels_py = viterbi_py(seq_test, model_py)\n",
        "t1 = time.perf_counter()\n",
        "dt_py_vit = t1 - t0\n",
        "\n",
        "# ----------------------------\n",
        "# Resultados\n",
        "# ----------------------------\n",
        "print(f\"Longitud secuencia: {N}\")\n",
        "print(\"      EVALUACIÓN    \")\n",
        "print(f\"C++/SWIG tiempo: {dt_cpp_eval:.6f} s, prob: {prob_cpp:.6e}\")\n",
        "print(f\"Python tiempo:   {dt_py_eval:.6f} s, prob: {prob_py:.6e}\")\n",
        "print()\n",
        "print(\"       VITERBI (Reconocimiento)      \")\n",
        "print(f\"C++/SWIG tiempo: {dt_cpp_vit:.6f} s, etiquetas obtenidas: {len(labels_cpp)}\")\n",
        "print(f\"Python tiempo:   {dt_py_vit:.6f} s, etiquetas obtenidas: {len(labels_py)}\")\n",
        "\n"
      ],
      "metadata": {
        "id": "OsLXiSinHFjW",
        "outputId": "2d5bf258-d1a6-49e4-8ccb-d0c43b94023a",
        "colab": {
          "base_uri": "https://localhost:8080/"
        }
      },
      "execution_count": 34,
      "outputs": [
        {
          "output_type": "stream",
          "name": "stdout",
          "text": [
            "Longitud secuencia: 20000\n",
            "      EVALUACIÓN    \n",
            "C++/SWIG tiempo: 0.007367 s, prob: 0.000000e+00\n",
            "Python tiempo:   0.018996 s, prob: 0.000000e+00\n",
            "\n",
            "       VITERBI (Reconocimiento)      \n",
            "C++/SWIG tiempo: 0.004277 s, etiquetas obtenidas: 20000\n",
            "Python tiempo:   0.043843 s, etiquetas obtenidas: 20000\n"
          ]
        }
      ]
    },
    {
      "cell_type": "code",
      "source": [
        "import matplotlib.pyplot as plt\n",
        "\n",
        "labels = ['C++ con SWIG', 'Python puro']\n",
        "times_eval = [dt_cpp_eval, dt_py_eval]\n",
        "\n",
        "plt.bar(labels, times_eval, color=['green', 'blue'])\n",
        "plt.ylabel('Tiempo (segundos)')\n",
        "plt.title('Comparación de rendimiento - Forward (Evaluación)')\n",
        "plt.show()\n",
        "\n",
        "times_vit = [dt_cpp_vit, dt_py_vit]\n",
        "\n",
        "plt.bar(labels, times_vit, color=['green', 'blue'])\n",
        "plt.ylabel('Tiempo (segundos)')\n",
        "plt.title('Comparación de rendimiento - Viterbi (Reconocimiento)')\n",
        "plt.show()\n"
      ],
      "metadata": {
        "id": "pLQfV6E4HIjY",
        "colab": {
          "base_uri": "https://localhost:8080/",
          "height": 889
        },
        "outputId": "dee82ed1-3318-4b46-fa78-3c7733568ae7"
      },
      "execution_count": 35,
      "outputs": [
        {
          "output_type": "display_data",
          "data": {
            "text/plain": [
              "<Figure size 640x480 with 1 Axes>"
            ],
            "image/png": "[encoded data removed]"
          },
          "metadata": {}
        },
        {
          "output_type": "display_data",
          "data": {
            "text/plain": [
              "<Figure size 640x480 with 1 Axes>"
            ],
            "image/png": "[encoded data removed]"
          },
          "metadata": {}
        }
      ]
    }
  ]
}
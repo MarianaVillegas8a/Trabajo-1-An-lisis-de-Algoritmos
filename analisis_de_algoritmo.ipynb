{
  "nbformat": 4,
  "nbformat_minor": 0,
  "metadata": {
    "colab": {
      "provenance": [],
      "authorship_tag": "ABX9TyPMS1KMIxcNP4Goe5dNnXSY",
      "include_colab_link": true
    },
    "kernelspec": {
      "name": "python3",
      "display_name": "Python 3"
    },
    "language_info": {
      "name": "python"
    }
  },
  "cells": [
    {
      "cell_type": "markdown",
      "metadata": {
        "id": "view-in-github",
        "colab_type": "text"
      },
      "source": [
        "<a href=\"https://colab.research.google.com/github/MarianaVillegas8a/Trabajo-1-An-lisis-de-Algoritmos/blob/main/analisis_de_algoritmo.ipynb\" target=\"_parent\"><img src=\"https://colab.research.google.com/assets/colab-badge.svg\" alt=\"Open In Colab\"/></a>"
      ]
    },
    {
      "cell_type": "markdown",
      "source": [
        "c++, swig, python"
      ],
      "metadata": {
        "id": "4Rq0xZqLhmy4"
      }
    },
    {
      "cell_type": "code",
      "source": [
        "!apt-get install swig\n",
        "!apt-get update -qq\n"
      ],
      "metadata": {
        "colab": {
          "base_uri": "https://localhost:8080/"
        },
        "id": "RdVn8NrvgDNu",
        "outputId": "9c544d8e-0065-48c0-b072-6256b7f87dbb"
      },
      "execution_count": 22,
      "outputs": [
        {
          "output_type": "stream",
          "name": "stdout",
          "text": [
            "Reading package lists... Done\n",
            "Building dependency tree... Done\n",
            "Reading state information... Done\n",
            "swig is already the newest version (4.0.2-1ubuntu1).\n",
            "0 upgraded, 0 newly installed, 0 to remove and 47 not upgraded.\n",
            "W: Skipping acquire of configured file 'main/source/Sources' as repository 'https://r2u.stat.illinois.edu/ubuntu jammy InRelease' does not seem to provide it (sources.list entry misspelt?)\n"
          ]
        }
      ]
    },
    {
      "cell_type": "code",
      "source": [
        "%%file dna.h\n",
        "#include <string>\n",
        "#include <vector>\n",
        "#include <map>\n",
        "\n",
        "class HMM {\n",
        "public:\n",
        "    std::vector<std::string> states;\n",
        "    std::map<std::string, std::map<std::string, double>> emissions;\n",
        "    std::map<std::string, std::map<std::string, double>> transitions;\n",
        "    std::map<std::string, double> start_prob;\n",
        "\n",
        "    HMM();\n",
        "    std::string recognize(const std::string& sequence);\n",
        "    double evaluate(const std::string& sequence);\n",
        "};\n"
      ],
      "metadata": {
        "colab": {
          "base_uri": "https://localhost:8080/"
        },
        "id": "KvgDnA9agFLG",
        "outputId": "a47b0586-1aa8-41e3-cc07-c8d1feed927c"
      },
      "execution_count": 23,
      "outputs": [
        {
          "output_type": "stream",
          "name": "stdout",
          "text": [
            "Overwriting dna.h\n"
          ]
        }
      ]
    },
    {
      "cell_type": "code",
      "source": [
        "%%file dna.cxx\n",
        "#include \"dna.h\"\n",
        "#include <cmath>\n",
        "\n",
        "HMM::HMM() {\n",
        "    states = {\"H\", \"L\"};\n",
        "    start_prob[\"H\"] = 0.5;\n",
        "    start_prob[\"L\"] = 0.5;\n",
        "\n",
        "    transitions[\"H\"][\"H\"] = 0.5;\n",
        "    transitions[\"H\"][\"L\"] = 0.5;\n",
        "    transitions[\"L\"][\"H\"] = 0.4;\n",
        "    transitions[\"L\"][\"L\"] = 0.6;\n",
        "\n",
        "    emissions[\"H\"][\"A\"] = 0.2;\n",
        "    emissions[\"H\"][\"C\"] = 0.3;\n",
        "    emissions[\"H\"][\"G\"] = 0.3;\n",
        "    emissions[\"H\"][\"T\"] = 0.2;\n",
        "\n",
        "    emissions[\"L\"][\"A\"] = 0.3;\n",
        "    emissions[\"L\"][\"C\"] = 0.2;\n",
        "    emissions[\"L\"][\"G\"] = 0.2;\n",
        "    emissions[\"L\"][\"T\"] = 0.3;\n",
        "}\n",
        "\n",
        "std::string HMM::recognize(const std::string& sequence) {\n",
        "    std::string result;\n",
        "    std::string current_state = \"H\";\n",
        "    for (char nucleotide : sequence) {\n",
        "        std::string nuc(1, nucleotide);\n",
        "        double prob_H = emissions[\"H\"][nuc] * transitions[current_state][\"H\"];\n",
        "        double prob_L = emissions[\"L\"][nuc] * transitions[current_state][\"L\"];\n",
        "        current_state = (prob_H > prob_L) ? \"H\" : \"L\";\n",
        "        result += current_state;\n",
        "    }\n",
        "    return result;\n",
        "}\n",
        "\n",
        "double HMM::evaluate(const std::string& sequence) {\n",
        "    std::map<std::string, double> probs;\n",
        "    for (const auto& state : states) {\n",
        "        probs[state] = start_prob[state] * emissions[state][std::string(1, sequence[0])];\n",
        "    }\n",
        "\n",
        "    for (size_t i = 1; i < sequence.size(); ++i) {\n",
        "        std::map<std::string, double> new_probs;\n",
        "        std::string nuc(1, sequence[i]);\n",
        "        for (const auto& curr : states) {\n",
        "            double sum = 0.0;\n",
        "            for (const auto& prev : states) {\n",
        "                sum += probs[prev] * transitions[prev][curr];\n",
        "            }\n",
        "            new_probs[curr] = sum * emissions[curr][nuc];\n",
        "        }\n",
        "        probs = new_probs;\n",
        "    }\n",
        "\n",
        "    double total = 0.0;\n",
        "    for (const auto& state : states) {\n",
        "        total += probs[state];\n",
        "    }\n",
        "    return total;\n",
        "}\n"
      ],
      "metadata": {
        "colab": {
          "base_uri": "https://localhost:8080/"
        },
        "id": "r2GHT5BPgJKW",
        "outputId": "0e6d2871-c8a3-4fd4-b2c2-a6ffb0c3a0ef"
      },
      "execution_count": 18,
      "outputs": [
        {
          "output_type": "stream",
          "name": "stdout",
          "text": [
            "Overwriting dna.cxx\n"
          ]
        }
      ]
    },
    {
      "cell_type": "code",
      "source": [
        "%%file dna.i\n",
        "%module dna\n",
        "\n",
        "%{\n",
        "#include \"dna.h\"\n",
        "%}\n",
        "\n",
        "%include \"std_string.i\"\n",
        "%include \"dna.h\"\n"
      ],
      "metadata": {
        "colab": {
          "base_uri": "https://localhost:8080/"
        },
        "id": "31U9bWKPgMuk",
        "outputId": "86260d25-b74e-47cd-ac41-573a4e7b3f86"
      },
      "execution_count": 19,
      "outputs": [
        {
          "output_type": "stream",
          "name": "stdout",
          "text": [
            "Overwriting dna.i\n"
          ]
        }
      ]
    },
    {
      "cell_type": "code",
      "source": [
        "!swig -c++ -python dna.i\n",
        "!g++ -O2 -fPIC -c dna.cxx\n",
        "!g++ -O2 -fPIC -c dna_wrap.cxx -I/usr/include/python3.10\n",
        "!g++ -shared dna.o dna_wrap.o -o _dna.so\n"
      ],
      "metadata": {
        "id": "KzFDmvkAgPB9"
      },
      "execution_count": 20,
      "outputs": []
    },
    {
      "cell_type": "code",
      "source": [
        "import dna\n",
        "\n",
        "model = dna.HMM()\n",
        "sequence = \"ATCGGATCGCG\"\n",
        "\n",
        "print(\"Sequence:\", sequence)\n",
        "print(\"Recognition:\", model.recognize(sequence))\n",
        "print(\"Evaluation:\", model.evaluate(sequence))"
      ],
      "metadata": {
        "colab": {
          "base_uri": "https://localhost:8080/"
        },
        "id": "GfRQzy_QgR3i",
        "outputId": "36dadfc0-f2c4-4157-c2f6-1773809d6390"
      },
      "execution_count": 21,
      "outputs": [
        {
          "output_type": "stream",
          "name": "stdout",
          "text": [
            "Sequence: ATCGGATCGCG\n",
            "Recognition: LLLLLLLLLLL\n",
            "Evaluation: 2.2050482245264802e-07\n"
          ]
        }
      ]
    },
    {
      "cell_type": "markdown",
      "source": [
        "Python"
      ],
      "metadata": {
        "id": "ivsRyP-7hkaT"
      }
    },
    {
      "cell_type": "code",
      "source": [
        "\n",
        "import math\n",
        "from typing import List\n",
        "\n",
        "class HMMModelPy:\n",
        "    def __init__(self):\n",
        "\n",
        "        self.trans = [[0.99, 0.01],[0.01,0.99]]\n",
        "        self.emit = [[0.30,0.20,0.20,0.30],[0.20,0.30,0.30,0.20]]\n",
        "        self.pi = [0.5, 0.5]\n",
        "\n",
        "def base_idx_py(c):\n",
        "    c = c.upper()\n",
        "    if c == 'A': return 0\n",
        "    if c == 'C': return 1\n",
        "    if c == 'G': return 2\n",
        "    if c == 'T': return 3\n",
        "    return -1\n",
        "\n",
        "def forward_prob_py(seq: str, m: HMMModelPy):\n",
        "    n = len(seq)\n",
        "    if n==0: return 0.0\n",
        "    prev = [0.0,0.0]\n",
        "    # init\n",
        "    idx = base_idx_py(seq[0])\n",
        "    if idx < 0: raise ValueError(\"Invalid base\")\n",
        "    for s in range(2):\n",
        "        prev[s] = m.pi[s] * m.emit[s][idx]\n",
        "    for i in range(1,n):\n",
        "        idx = base_idx_py(seq[i])\n",
        "        curr = [0.0,0.0]\n",
        "        for s in range(2):\n",
        "            for sp in range(2):\n",
        "                curr[s] += prev[sp] * m.trans[sp][s]\n",
        "            curr[s] *= m.emit[s][idx]\n",
        "        prev = curr\n",
        "    return prev[0] + prev[1]\n",
        "\n",
        "def viterbi_py(seq: str, m: HMMModelPy):\n",
        "    n = len(seq)\n",
        "    if n==0: return []\n",
        "    dp = [[-1e300]*2 for _ in range(n)]\n",
        "    back = [[0]*2 for _ in range(n)]\n",
        "    idx = base_idx_py(seq[0])\n",
        "    for s in range(2):\n",
        "        dp[0][s] = math.log(m.pi[s]) + math.log(m.emit[s][idx])\n",
        "        back[0][s] = -1\n",
        "    for i in range(1,n):\n",
        "        idx = base_idx_py(seq[i])\n",
        "        for s in range(2):\n",
        "            best = -1e300\n",
        "            best_state = 0\n",
        "            for sp in range(2):\n",
        "                score = dp[i-1][sp] + math.log(m.trans[sp][s]) + math.log(m.emit[s][idx])\n",
        "                if score > best:\n",
        "                    best = score\n",
        "                    best_state = sp\n",
        "            dp[i][s] = best\n",
        "            back[i][s] = best_state\n",
        "\n",
        "    if dp[n-1][1] > dp[n-1][0]:\n",
        "        cur = 1\n",
        "    else:\n",
        "        cur = 0\n",
        "    path = [0]*n\n",
        "    for i in range(n-1, -1, -1):\n",
        "        path[i] = cur\n",
        "        cur = back[i][cur]\n",
        "        if i==0: break\n",
        "    return path\n"
      ],
      "metadata": {
        "id": "RY3dnq-Hg5sJ"
      },
      "execution_count": 24,
      "outputs": []
    },
    {
      "cell_type": "markdown",
      "source": [
        "Tiempo"
      ],
      "metadata": {
        "id": "ab3hSWoUh2dY"
      }
    },
    {
      "cell_type": "code",
      "source": [
        "import random, time\n",
        "\n",
        "# ----------------------------\n",
        "# Generador de secuencias DNA\n",
        "# ----------------------------\n",
        "random.seed(42)\n",
        "\n",
        "def random_dna(length):\n",
        "    return ''.join(random.choice('ACGT') for _ in range(length))\n",
        "\n",
        "# tamaño de prueba\n",
        "N = 20000   # puedes subir a 100k si quieres estresar más\n",
        "seq_test = random_dna(N)\n",
        "\n",
        "# ----------------------------\n",
        "# Modelo Python (ya definido)\n",
        "# ----------------------------\n",
        "model_py = HMMModelPy()\n",
        "\n",
        "# ----------------------------\n",
        "# Evaluación Forward\n",
        "# ----------------------------\n",
        "t0 = time.perf_counter()\n",
        "prob_cpp = dna_lib.evaluate_sequence(seq_test)   # C++\n",
        "t1 = time.perf_counter()\n",
        "dt_cpp_eval = t1 - t0\n",
        "\n",
        "t0 = time.perf_counter()\n",
        "prob_py = forward_prob_py(seq_test, model_py)    # Python\n",
        "t1 = time.perf_counter()\n",
        "dt_py_eval = t1 - t0\n",
        "\n",
        "# ----------------------------\n",
        "# Viterbi Recognition\n",
        "# ----------------------------\n",
        "t0 = time.perf_counter()\n",
        "labels_cpp = dna_lib.viterbi(seq_test)           # C++\n",
        "t1 = time.perf_counter()\n",
        "dt_cpp_vit = t1 - t0\n",
        "\n",
        "t0 = time.perf_counter()\n",
        "labels_py = viterbi_py(seq_test, model_py)       # Python\n",
        "t1 = time.perf_counter()\n",
        "dt_py_vit = t1 - t0\n",
        "\n",
        "# ----------------------------\n",
        "# Resultados\n",
        "# ----------------------------\n",
        "print(f\"Longitud secuencia: {N}\")\n",
        "print(\"=== EVALUATION (Forward) ===\")\n",
        "print(f\"C++/SWIG time: {dt_cpp_eval:.6f} s, prob: {prob_cpp:.6e}\")\n",
        "print(f\"Python time:  {dt_py_eval:.6f} s, prob: {prob_py:.6e}\")\n",
        "print()\n",
        "print(\"=== VITERBI (recognition) ===\")\n",
        "print(f\"C++/SWIG time: {dt_cpp_vit:.6f} s, etiquetas obtenidas: {len(labels_cpp)}\")\n",
        "print(f\"Python time:  {dt_py_vit:.6f} s, etiquetas obtenidas: {len(labels_py)}\")\n",
        "\n",
        "# Verificar coincidencia de etiquetas\n",
        "same_labels = (list(labels_cpp) == list(labels_py))\n",
        "print(\"\\n¿Etiquetas idénticas entre C++ y Python?\", same_labels)\n"
      ],
      "metadata": {
        "colab": {
          "base_uri": "https://localhost:8080/",
          "height": 211
        },
        "id": "CZw51VZah3nv",
        "outputId": "d9848c2b-36ed-4dd9-b15d-f3624d698d29"
      },
      "execution_count": 26,
      "outputs": [
        {
          "output_type": "error",
          "ename": "NameError",
          "evalue": "name 'dna_lib' is not defined",
          "traceback": [
            "\u001b[0;31m---------------------------------------------------------------------------\u001b[0m",
            "\u001b[0;31mNameError\u001b[0m                                 Traceback (most recent call last)",
            "\u001b[0;32m/tmp/ipython-input-2729137150.py\u001b[0m in \u001b[0;36m<cell line: 0>\u001b[0;34m()\u001b[0m\n\u001b[1;32m     22\u001b[0m \u001b[0;31m# ----------------------------\u001b[0m\u001b[0;34m\u001b[0m\u001b[0;34m\u001b[0m\u001b[0m\n\u001b[1;32m     23\u001b[0m \u001b[0mt0\u001b[0m \u001b[0;34m=\u001b[0m \u001b[0mtime\u001b[0m\u001b[0;34m.\u001b[0m\u001b[0mperf_counter\u001b[0m\u001b[0;34m(\u001b[0m\u001b[0;34m)\u001b[0m\u001b[0;34m\u001b[0m\u001b[0;34m\u001b[0m\u001b[0m\n\u001b[0;32m---> 24\u001b[0;31m \u001b[0mprob_cpp\u001b[0m \u001b[0;34m=\u001b[0m \u001b[0mdna_lib\u001b[0m\u001b[0;34m.\u001b[0m\u001b[0mevaluate_sequence\u001b[0m\u001b[0;34m(\u001b[0m\u001b[0mseq_test\u001b[0m\u001b[0;34m)\u001b[0m   \u001b[0;31m# C++\u001b[0m\u001b[0;34m\u001b[0m\u001b[0;34m\u001b[0m\u001b[0m\n\u001b[0m\u001b[1;32m     25\u001b[0m \u001b[0mt1\u001b[0m \u001b[0;34m=\u001b[0m \u001b[0mtime\u001b[0m\u001b[0;34m.\u001b[0m\u001b[0mperf_counter\u001b[0m\u001b[0;34m(\u001b[0m\u001b[0;34m)\u001b[0m\u001b[0;34m\u001b[0m\u001b[0;34m\u001b[0m\u001b[0m\n\u001b[1;32m     26\u001b[0m \u001b[0mdt_cpp_eval\u001b[0m \u001b[0;34m=\u001b[0m \u001b[0mt1\u001b[0m \u001b[0;34m-\u001b[0m \u001b[0mt0\u001b[0m\u001b[0;34m\u001b[0m\u001b[0;34m\u001b[0m\u001b[0m\n",
            "\u001b[0;31mNameError\u001b[0m: name 'dna_lib' is not defined"
          ]
        }
      ]
    },
    {
      "cell_type": "code",
      "source": [
        "import time\n",
        "\n",
        "sequence = \"ATCGGATCGCG\" * 1000  # secuencia larga para medir tiempo\n",
        "\n",
        "# C++ con SWIG\n",
        "start_cpp = time.time()\n",
        "model_cpp = dna.HMM()\n",
        "model_cpp.recognize(sequence)\n",
        "model_cpp.evaluate(sequence)\n",
        "end_cpp = time.time()\n",
        "\n",
        "# Python puro\n",
        "start_py = time.time()\n",
        "model_py = HMM_Python()\n",
        "model_py.recognize(sequence)\n",
        "model_py.evaluate(sequence)\n",
        "end_py = time.time()\n",
        "\n",
        "print(\"Tiempo C++ con SWIG:\", end_cpp - start_cpp)\n",
        "print(\"Tiempo Python puro:\", end_py - start_py)\n"
      ],
      "metadata": {
        "id": "OsLXiSinHFjW",
        "outputId": "d86b991d-0e7a-4369-d7b2-3ba66e594622",
        "colab": {
          "base_uri": "https://localhost:8080/",
          "height": 211
        }
      },
      "execution_count": null,
      "outputs": [
        {
          "output_type": "error",
          "ename": "NameError",
          "evalue": "name 'dna' is not defined",
          "traceback": [
            "\u001b[0;31m---------------------------------------------------------------------------\u001b[0m",
            "\u001b[0;31mNameError\u001b[0m                                 Traceback (most recent call last)",
            "\u001b[0;32m/tmp/ipython-input-2694511121.py\u001b[0m in \u001b[0;36m<cell line: 0>\u001b[0;34m()\u001b[0m\n\u001b[1;32m      5\u001b[0m \u001b[0;31m# C++ con SWIG\u001b[0m\u001b[0;34m\u001b[0m\u001b[0;34m\u001b[0m\u001b[0m\n\u001b[1;32m      6\u001b[0m \u001b[0mstart_cpp\u001b[0m \u001b[0;34m=\u001b[0m \u001b[0mtime\u001b[0m\u001b[0;34m.\u001b[0m\u001b[0mtime\u001b[0m\u001b[0;34m(\u001b[0m\u001b[0;34m)\u001b[0m\u001b[0;34m\u001b[0m\u001b[0;34m\u001b[0m\u001b[0m\n\u001b[0;32m----> 7\u001b[0;31m \u001b[0mmodel_cpp\u001b[0m \u001b[0;34m=\u001b[0m \u001b[0mdna\u001b[0m\u001b[0;34m.\u001b[0m\u001b[0mHMM\u001b[0m\u001b[0;34m(\u001b[0m\u001b[0;34m)\u001b[0m\u001b[0;34m\u001b[0m\u001b[0;34m\u001b[0m\u001b[0m\n\u001b[0m\u001b[1;32m      8\u001b[0m \u001b[0mmodel_cpp\u001b[0m\u001b[0;34m.\u001b[0m\u001b[0mrecognize\u001b[0m\u001b[0;34m(\u001b[0m\u001b[0msequence\u001b[0m\u001b[0;34m)\u001b[0m\u001b[0;34m\u001b[0m\u001b[0;34m\u001b[0m\u001b[0m\n\u001b[1;32m      9\u001b[0m \u001b[0mmodel_cpp\u001b[0m\u001b[0;34m.\u001b[0m\u001b[0mevaluate\u001b[0m\u001b[0;34m(\u001b[0m\u001b[0msequence\u001b[0m\u001b[0;34m)\u001b[0m\u001b[0;34m\u001b[0m\u001b[0;34m\u001b[0m\u001b[0m\n",
            "\u001b[0;31mNameError\u001b[0m: name 'dna' is not defined"
          ]
        }
      ]
    },
    {
      "cell_type": "code",
      "source": [
        "import matplotlib.pyplot as plt\n",
        "\n",
        "labels = ['C++ con SWIG', 'Python puro']\n",
        "times = [end_cpp - start_cpp, end_py - start_py]\n",
        "\n",
        "plt.bar(labels, times, color=['green', 'blue'])\n",
        "plt.ylabel('Tiempo (segundos)')\n",
        "plt.title('Comparación de rendimiento')\n",
        "plt.show()\n"
      ],
      "metadata": {
        "id": "pLQfV6E4HIjY",
        "colab": {
          "base_uri": "https://localhost:8080/",
          "height": 211
        },
        "outputId": "17ff6784-7010-4b3c-dfb1-2b5e9d842f48"
      },
      "execution_count": 1,
      "outputs": [
        {
          "output_type": "error",
          "ename": "NameError",
          "evalue": "name 'end_cpp' is not defined",
          "traceback": [
            "\u001b[0;31m---------------------------------------------------------------------------\u001b[0m",
            "\u001b[0;31mNameError\u001b[0m                                 Traceback (most recent call last)",
            "\u001b[0;32m/tmp/ipython-input-2262407570.py\u001b[0m in \u001b[0;36m<cell line: 0>\u001b[0;34m()\u001b[0m\n\u001b[1;32m      2\u001b[0m \u001b[0;34m\u001b[0m\u001b[0m\n\u001b[1;32m      3\u001b[0m \u001b[0mlabels\u001b[0m \u001b[0;34m=\u001b[0m \u001b[0;34m[\u001b[0m\u001b[0;34m'C++ con SWIG'\u001b[0m\u001b[0;34m,\u001b[0m \u001b[0;34m'Python puro'\u001b[0m\u001b[0;34m]\u001b[0m\u001b[0;34m\u001b[0m\u001b[0;34m\u001b[0m\u001b[0m\n\u001b[0;32m----> 4\u001b[0;31m \u001b[0mtimes\u001b[0m \u001b[0;34m=\u001b[0m \u001b[0;34m[\u001b[0m\u001b[0mend_cpp\u001b[0m \u001b[0;34m-\u001b[0m \u001b[0mstart_cpp\u001b[0m\u001b[0;34m,\u001b[0m \u001b[0mend_py\u001b[0m \u001b[0;34m-\u001b[0m \u001b[0mstart_py\u001b[0m\u001b[0;34m]\u001b[0m\u001b[0;34m\u001b[0m\u001b[0;34m\u001b[0m\u001b[0m\n\u001b[0m\u001b[1;32m      5\u001b[0m \u001b[0;34m\u001b[0m\u001b[0m\n\u001b[1;32m      6\u001b[0m \u001b[0mplt\u001b[0m\u001b[0;34m.\u001b[0m\u001b[0mbar\u001b[0m\u001b[0;34m(\u001b[0m\u001b[0mlabels\u001b[0m\u001b[0;34m,\u001b[0m \u001b[0mtimes\u001b[0m\u001b[0;34m,\u001b[0m \u001b[0mcolor\u001b[0m\u001b[0;34m=\u001b[0m\u001b[0;34m[\u001b[0m\u001b[0;34m'green'\u001b[0m\u001b[0;34m,\u001b[0m \u001b[0;34m'blue'\u001b[0m\u001b[0;34m]\u001b[0m\u001b[0;34m)\u001b[0m\u001b[0;34m\u001b[0m\u001b[0;34m\u001b[0m\u001b[0m\n",
            "\u001b[0;31mNameError\u001b[0m: name 'end_cpp' is not defined"
          ]
        }
      ]
    }
  ]
}